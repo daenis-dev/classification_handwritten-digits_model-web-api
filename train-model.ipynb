{
 "cells": [
  {
   "cell_type": "code",
   "execution_count": 1,
   "id": "fc6f20ce-2587-4a57-9301-da10b65ae219",
   "metadata": {},
   "outputs": [
    {
     "data": {
      "text/plain": [
       "['image-classifier.pkl']"
      ]
     },
     "execution_count": 1,
     "metadata": {},
     "output_type": "execute_result"
    }
   ],
   "source": [
    "from sklearn.datasets import fetch_openml\n",
    "import ssl\n",
    "ssl._create_default_https_context = ssl._create_unverified_context\n",
    "import numpy as np\n",
    "from sklearn.datasets import fetch_openml\n",
    "import matplotlib as mpl\n",
    "import matplotlib.pyplot as plt\n",
    "\n",
    "from sklearn.ensemble import RandomForestClassifier\n",
    "\n",
    "import joblib\n",
    "\n",
    "def get_mnist_instances_and_labels():\n",
    "    mnist = fetch_openml('mnist_784', version=1)\n",
    "    mnist.keys()\n",
    "    return np.array(mnist[\"data\"]), mnist[\"target\"]\n",
    "\n",
    "def train_test_from(instances, labels):\n",
    "    labels = labels.astype(np.uint8)\n",
    "\n",
    "    return instances[:60000], instances[60000:], labels[:60000], labels[60000:]\n",
    "\n",
    "instances, labels = get_mnist_instances_and_labels()\n",
    "training_set_instances, test_set_instances, training_set_labels, test_set_labels = train_test_from(instances, labels)\n",
    "\n",
    "forest_clf = RandomForestClassifier(random_state = 42)\n",
    "forest_clf.fit(training_set_instances, training_set_labels)\n",
    "\n",
    "joblib.dump(forest_clf, 'image-classifier.pkl')"
   ]
  },
  {
   "cell_type": "code",
   "execution_count": null,
   "id": "dd016347-d07a-4678-b57a-fcbac517ff19",
   "metadata": {},
   "outputs": [],
   "source": []
  }
 ],
 "metadata": {
  "kernelspec": {
   "display_name": "Python 3 (ipykernel)",
   "language": "python",
   "name": "python3"
  },
  "language_info": {
   "codemirror_mode": {
    "name": "ipython",
    "version": 3
   },
   "file_extension": ".py",
   "mimetype": "text/x-python",
   "name": "python",
   "nbconvert_exporter": "python",
   "pygments_lexer": "ipython3",
   "version": "3.11.4"
  }
 },
 "nbformat": 4,
 "nbformat_minor": 5
}
